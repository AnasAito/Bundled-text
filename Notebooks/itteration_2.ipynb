{
 "cells": [
  {
   "cell_type": "code",
   "execution_count": 2,
   "metadata": {},
   "outputs": [],
   "source": [
    "import pandas as pd\n",
    "# disable python warnings \n",
    "import warnings\n",
    "warnings.filterwarnings('ignore')"
   ]
  },
  {
   "cell_type": "code",
   "execution_count": 3,
   "metadata": {},
   "outputs": [],
   "source": [
    "# load data \n",
    "data  = pd.read_csv('../data/bundled_raw.csv')\n",
    "pos_data = data[data['is_bundled'] == 1]\n",
    "neg_data = data[data['is_bundled'] == 0]"
   ]
  },
  {
   "cell_type": "code",
   "execution_count": 4,
   "metadata": {},
   "outputs": [
    {
     "data": {
      "text/html": [
       "<div>\n",
       "<style scoped>\n",
       "    .dataframe tbody tr th:only-of-type {\n",
       "        vertical-align: middle;\n",
       "    }\n",
       "\n",
       "    .dataframe tbody tr th {\n",
       "        vertical-align: top;\n",
       "    }\n",
       "\n",
       "    .dataframe thead th {\n",
       "        text-align: right;\n",
       "    }\n",
       "</style>\n",
       "<table border=\"1\" class=\"dataframe\">\n",
       "  <thead>\n",
       "    <tr style=\"text-align: right;\">\n",
       "      <th></th>\n",
       "      <th>text</th>\n",
       "      <th>is_bundled</th>\n",
       "    </tr>\n",
       "  </thead>\n",
       "  <tbody>\n",
       "    <tr>\n",
       "      <th>0</th>\n",
       "      <td>Emerson Community Experience</td>\n",
       "      <td>0</td>\n",
       "    </tr>\n",
       "    <tr>\n",
       "      <th>1</th>\n",
       "      <td>How could Emerson engage you in building a str...</td>\n",
       "      <td>0</td>\n",
       "    </tr>\n",
       "    <tr>\n",
       "      <th>2</th>\n",
       "      <td>Discuss racism, anti-Semitism all forms of dis...</td>\n",
       "      <td>1</td>\n",
       "    </tr>\n",
       "    <tr>\n",
       "      <th>3</th>\n",
       "      <td>Regular communication</td>\n",
       "      <td>0</td>\n",
       "    </tr>\n",
       "    <tr>\n",
       "      <th>4</th>\n",
       "      <td>give staff time for this work</td>\n",
       "      <td>0</td>\n",
       "    </tr>\n",
       "    <tr>\n",
       "      <th>...</th>\n",
       "      <td>...</td>\n",
       "      <td>...</td>\n",
       "    </tr>\n",
       "    <tr>\n",
       "      <th>421</th>\n",
       "      <td>The people</td>\n",
       "      <td>0</td>\n",
       "    </tr>\n",
       "    <tr>\n",
       "      <th>422</th>\n",
       "      <td>The people</td>\n",
       "      <td>0</td>\n",
       "    </tr>\n",
       "    <tr>\n",
       "      <th>423</th>\n",
       "      <td>The people, the passion, and the mission</td>\n",
       "      <td>0</td>\n",
       "    </tr>\n",
       "    <tr>\n",
       "      <th>424</th>\n",
       "      <td>It’s not very specific</td>\n",
       "      <td>0</td>\n",
       "    </tr>\n",
       "    <tr>\n",
       "      <th>425</th>\n",
       "      <td>The people I have met, the location, and a lot...</td>\n",
       "      <td>1</td>\n",
       "    </tr>\n",
       "  </tbody>\n",
       "</table>\n",
       "<p>426 rows × 2 columns</p>\n",
       "</div>"
      ],
      "text/plain": [
       "                                                  text  is_bundled\n",
       "0                         Emerson Community Experience           0\n",
       "1    How could Emerson engage you in building a str...           0\n",
       "2    Discuss racism, anti-Semitism all forms of dis...           1\n",
       "3                                Regular communication           0\n",
       "4                        give staff time for this work           0\n",
       "..                                                 ...         ...\n",
       "421                                         The people           0\n",
       "422                                         The people           0\n",
       "423           The people, the passion, and the mission           0\n",
       "424                             It’s not very specific           0\n",
       "425  The people I have met, the location, and a lot...           1\n",
       "\n",
       "[426 rows x 2 columns]"
      ]
     },
     "execution_count": 4,
     "metadata": {},
     "output_type": "execute_result"
    }
   ],
   "source": [
    "data"
   ]
  },
  {
   "cell_type": "code",
   "execution_count": 1,
   "metadata": {},
   "outputs": [],
   "source": [
    "#!pip install benepar\n",
    "import benepar\n",
    "#benepar.download('benepar_en3')"
   ]
  },
  {
   "cell_type": "code",
   "execution_count": 5,
   "metadata": {},
   "outputs": [],
   "source": [
    "import benepar, spacy\n",
    "nlp = spacy.load('en_core_web_lg')\n",
    "if spacy.__version__.startswith('2'):\n",
    "        nlp.add_pipe(benepar.BeneparComponent(\"benepar_en3\"))\n",
    "else:\n",
    "        nlp.add_pipe(\"benepar\", config={\"model\": \"benepar_en3\"})\n",
    "\n",
    "# load embedding model \n",
    "\n",
    "from sentence_transformers import SentenceTransformer,util\n",
    "\n",
    "model_name = 'all-mpnet-base-v2'\n",
    "\n",
    "model = SentenceTransformer(model_name)"
   ]
  },
  {
   "cell_type": "code",
   "execution_count": 6,
   "metadata": {},
   "outputs": [
    {
     "name": "stdout",
     "output_type": "stream",
     "text": [
      "pos texts : \n",
      "Counter({1: 43, 2: 10, 3: 5})\n",
      "neg texts : \n",
      "Counter({1: 329, 2: 31, 3: 8})\n"
     ]
    }
   ],
   "source": [
    "def parse_sentence(sentence):\n",
    "    doc = nlp(sentence)\n",
    "    return len(list(doc.sents))\n",
    "logs = []\n",
    "for text in pos_data.text.values:\n",
    "    logs.append(parse_sentence(text))\n",
    "\n",
    "# add to pos_data\n",
    "pos_data['sentence_count'] = logs\n",
    "\n",
    "# get freq \n",
    "import collections\n",
    "freq = collections.Counter(logs)\n",
    "print('pos texts : ')\n",
    "print(freq)\n",
    "logs = []\n",
    "for text in neg_data.text.values:\n",
    "    logs.append(parse_sentence(text))\n",
    "# add to pos_data\n",
    "neg_data['sentence_count'] = logs\n",
    "freq = collections.Counter(logs)\n",
    "print('neg texts : ')\n",
    "print(freq)"
   ]
  },
  {
   "cell_type": "code",
   "execution_count": 23,
   "metadata": {},
   "outputs": [
    {
     "name": "stdout",
     "output_type": "stream",
     "text": [
      "increasing the student loan and faculty salaries budgets and recruiting admissions/resumes from schools and communities with diverse student bodies\n"
     ]
    }
   ],
   "source": [
    "condition = pos_data['sentence_count'] ==1\n",
    "pos_data[condition]\n",
    "text = pos_data[condition].sample(n=1).text.values[0]\n",
    "print(text)"
   ]
  },
  {
   "cell_type": "code",
   "execution_count": 24,
   "metadata": {},
   "outputs": [
    {
     "name": "stdout",
     "output_type": "stream",
     "text": [
      "(S (VP (VP (VBG increasing) (NP (DT the) (NML (NML (NN student) (NN loan)) (CC and) (NML (NN faculty) (NNS salaries))) (NNS budgets))) (CC and) (VP (VBG recruiting) (NP (NNS admissions) (SYM /) (NNS resumes)) (PP (IN from) (NP (NP (NNS schools) (CC and) (NNS communities)) (PP (IN with) (NP (JJ diverse) (NN student) (NNS bodies))))))))\n",
      "----\n",
      "increasing the student loan and faculty salaries budgets ('VP',)\n",
      "and ()\n",
      "recruiting admissions/resumes from schools and communities with diverse student bodies ('VP',)\n"
     ]
    }
   ],
   "source": [
    "doc = nlp(text)\n",
    "sent = list(doc.sents)[0]\n",
    "\n",
    "print(sent._.parse_string)\n",
    "print('----')\n",
    "for child in sent._.children:\n",
    "    print(child , child._.labels) \n"
   ]
  },
  {
   "cell_type": "code",
   "execution_count": 166,
   "metadata": {},
   "outputs": [],
   "source": [
    "class Span_extractor:\n",
    "\n",
    "    def __init__(self, sentence: str,deep_extraction=True,debug=False, verify_treshold=0.7):\n",
    "        self.sentence = sentence\n",
    "        self.verify_treshold = verify_treshold\n",
    "        self.debug=debug\n",
    "        self.deep_extraction = deep_extraction\n",
    "        self.doc = nlp(sentence)\n",
    "        # loggers \n",
    "        self.spans_logger = []\n",
    "    \n",
    "    def is_valid_span(self, span):\n",
    "        \"\"\"check if span is valid\n",
    "\n",
    "        Args:\n",
    "            span (_type_): span to check\n",
    "\n",
    "        Returns:\n",
    "            _type_: True if valid, False otherwise\n",
    "        \"\"\"\n",
    "        def RepresentsInt(s):\n",
    "            try: \n",
    "                int(s)\n",
    "                return True\n",
    "            except ValueError:\n",
    "                return False\n",
    "\n",
    "        def is_propn(span):\n",
    "            span_str = str(span)\n",
    "            if len(span_str.split(' ')) == 1:\n",
    "                token = [token for token in self.doc if token.text == span_str][0]\n",
    "                print(token , token.pos_)\n",
    "                try : \n",
    "                    \n",
    "                    if token.pos_ in  ['PROPN','CCONJ']:\n",
    "                        return True\n",
    "                except:\n",
    "                    pass\n",
    "            return False\n",
    "                \n",
    "        if RepresentsInt(str(span)):\n",
    "            return False\n",
    "        if is_propn(span):\n",
    "            return False\n",
    "        \n",
    "        \n",
    "        \n",
    "        \n",
    "        return True\n",
    "    \n",
    "    def extract_spans(self,spacy_span):\n",
    "        \"\"\"extract NP,VP span from e sentence text\n",
    "\n",
    "        Args:\n",
    "            sentence (_type_): text (with 1 sentence)\n",
    "\n",
    "        Returns:\n",
    "            _type_: list of VP,NP spans\n",
    "        \"\"\"\n",
    "        spans = []\n",
    "        for child in spacy_span._.children:\n",
    "            if self.debug : \n",
    "                print(child , list(child._.labels))\n",
    "            intersection = set(child._.labels).intersection(set(['S','NP','VP','PP','ADJP','ADVP','NML']))\n",
    "            if len(intersection)!=0:\n",
    "                spans.append(child)\n",
    "        # verify re-itteration\n",
    "        span_len = []\n",
    "        for span in spans:\n",
    "            span_len.append(len(str(span).split(' ')))\n",
    "        # normalise len\n",
    "        span_len = [x/len(self.sentence.split(' ')) for x in span_len]\n",
    "        spans_to_verify = [idx for idx, x in enumerate(span_len) if x > self.verify_treshold]\n",
    "        return spans , spans_to_verify\n",
    "    \n",
    "    def itterate(self):\n",
    "        \"\"\"run the extractor\n",
    "\n",
    "        Returns:\n",
    "            _type_: list of VP,NP spans\n",
    "        \"\"\"\n",
    "        sent = list(self.doc.sents)[0]\n",
    "        spans,spans_to_verify = self.extract_spans(sent)\n",
    "        if self.debug : \n",
    "            print('->',sent)\n",
    "            pprint.pprint(spans)\n",
    "            print(spans_to_verify)\n",
    "            print('------')\n",
    "        spans_to_log = [str(span) for idx ,span in enumerate(spans) if ( idx not in spans_to_verify)   and self.is_valid_span((span))]\n",
    "        self.spans_logger.extend(spans_to_log)\n",
    "\n",
    "        if self.deep_extraction :\n",
    "\n",
    "            while spans_to_verify !=[] : \n",
    "                for span_id in spans_to_verify:\n",
    "                    span = spans[span_id]\n",
    "                    spans,spans_to_verify = self.extract_spans(span)\n",
    "                    if self.debug : \n",
    "                        print('->',span)\n",
    "                        pprint.pprint(spans)\n",
    "                        print(spans_to_verify)\n",
    "                        print('------')\n",
    "                    spans_to_log = [str(span) for idx ,span in enumerate(spans) if ( idx not in spans_to_verify)   and self.is_valid_span((span))]\n",
    "                    self.spans_logger.extend(spans_to_log)\n",
    "    \n",
    "    def get_spans(self):\n",
    "        \"\"\"get the extracted spans\n",
    "\n",
    "        Returns:\n",
    "            _type_: list of VP,NP spans\n",
    "        \"\"\"\n",
    "        spans_logger_str = ' '.join(self.spans_logger)\n",
    "        ratio = len(spans_logger_str.split(' ') )/len(self.sentence.split(' '))\n",
    "        if ratio <0.3 :\n",
    "            return ('PROBLEM' , self.sentence)\n",
    "        return ('GOOD',self.spans_logger)\n",
    "        \n",
    "      \n",
    "        \n",
    "    \n",
    "\n",
    "\n",
    "        \n",
    "\n",
    "\n",
    "\n",
    "\n"
   ]
  },
  {
   "cell_type": "code",
   "execution_count": 169,
   "metadata": {},
   "outputs": [
    {
     "name": "stdout",
     "output_type": "stream",
     "text": [
      "Hiring and retaining staff of color; identifying and addressing barriers for participation in abroad/domestic programs;\n"
     ]
    },
    {
     "data": {
      "text/plain": [
       "('GOOD',\n",
       " ['Hiring and retaining staff of color',\n",
       "  'identifying and addressing barriers for participation in abroad/domestic programs'])"
      ]
     },
     "execution_count": 169,
     "metadata": {},
     "output_type": "execute_result"
    }
   ],
   "source": [
    "#text = 'Emerson has clearly made a real effort to address the student demands and other feedback around equity and inclusion, including the Teach-In on Race, expanding the number of positions that focus on access and belonging, etc.'\n",
    "#text = 'Faculty and Staff Training in Disability advocacy; HR recognition of Mental Health needs; Anti-Racism training for Faculty/Staff'\n",
    "condition = pos_data['sentence_count'] ==1\n",
    "text = pos_data[condition].sample(n=1).text.values[0]\n",
    "#text = 'hiring, retaining, promoting staff'\n",
    "print(text)\n",
    "extractor = Span_extractor(sentence= text ,deep_extraction=True,debug=False)\n",
    "extractor.itterate()\n",
    "meta, spans = extractor.get_spans()\n",
    "meta,spans"
   ]
  },
  {
   "cell_type": "code",
   "execution_count": 132,
   "metadata": {},
   "outputs": [],
   "source": [
    "# TODO \n",
    "# - encode spans \n",
    "# - plot umap \n",
    "# - use hiearchical clustering\n",
    "\n"
   ]
  },
  {
   "cell_type": "code",
   "execution_count": 170,
   "metadata": {},
   "outputs": [
    {
     "data": {
      "image/png": "[encoded data removed]",
      "text/plain": [
       "<Figure size 432x288 with 1 Axes>"
      ]
     },
     "metadata": {
      "needs_background": "light"
     },
     "output_type": "display_data"
    }
   ],
   "source": [
    "embeddings = model.encode(spans)\n",
    "# umap \n",
    "from sklearn.manifold import TSNE\n",
    "import matplotlib.pyplot as plt\n",
    "# reduce dim\n",
    "embeddings = TSNE(n_components=2).fit_transform(embeddings)\n",
    "# plot \n",
    "plt.scatter(embeddings[:,0],embeddings[:,1])\n",
    "# add labels\n",
    "for idx,span in enumerate(spans):\n",
    "    plt.annotate(span,(embeddings[idx,0],embeddings[idx,1]))"
   ]
  },
  {
   "cell_type": "code",
   "execution_count": null,
   "metadata": {},
   "outputs": [],
   "source": []
  }
 ],
 "metadata": {
  "interpreter": {
   "hash": "aee8b7b246df8f9039afb4144a1f6fd8d2ca17a180786b69acc140d282b71a49"
  },
  "kernelspec": {
   "display_name": "Python 3.9.1 64-bit",
   "language": "python",
   "name": "python3"
  },
  "language_info": {
   "codemirror_mode": {
    "name": "ipython",
    "version": 3
   },
   "file_extension": ".py",
   "mimetype": "text/x-python",
   "name": "python",
   "nbconvert_exporter": "python",
   "pygments_lexer": "ipython3",
   "version": "3.9.1"
  },
  "orig_nbformat": 4
 },
 "nbformat": 4,
 "nbformat_minor": 2
}
