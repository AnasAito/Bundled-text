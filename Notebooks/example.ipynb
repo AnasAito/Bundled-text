{
 "cells": [
  {
   "cell_type": "code",
   "execution_count": 1,
   "metadata": {},
   "outputs": [
    {
     "name": "stdout",
     "output_type": "stream",
     "text": [
      "my_package is being imported\n"
     ]
    }
   ],
   "source": [
    "import pandas as pd\n",
    "import numpy as np \n",
    "from PyBundled.utils import  run_experiment\n"
   ]
  },
  {
   "cell_type": "code",
   "execution_count": 2,
   "metadata": {},
   "outputs": [],
   "source": [
    "import spacy\n",
    "\n",
    "nlp = spacy.load(\"en_core_web_lg\",)"
   ]
  },
  {
   "cell_type": "code",
   "execution_count": 3,
   "metadata": {},
   "outputs": [],
   "source": [
    "# load data \n",
    "data  = pd.read_csv('../data/bundled_raw.csv')"
   ]
  },
  {
   "cell_type": "code",
   "execution_count": 4,
   "metadata": {},
   "outputs": [
    {
     "data": {
      "text/html": [
       "<div>\n",
       "<style scoped>\n",
       "    .dataframe tbody tr th:only-of-type {\n",
       "        vertical-align: middle;\n",
       "    }\n",
       "\n",
       "    .dataframe tbody tr th {\n",
       "        vertical-align: top;\n",
       "    }\n",
       "\n",
       "    .dataframe thead th {\n",
       "        text-align: right;\n",
       "    }\n",
       "</style>\n",
       "<table border=\"1\" class=\"dataframe\">\n",
       "  <thead>\n",
       "    <tr style=\"text-align: right;\">\n",
       "      <th></th>\n",
       "      <th>text</th>\n",
       "      <th>is_bundled</th>\n",
       "    </tr>\n",
       "  </thead>\n",
       "  <tbody>\n",
       "    <tr>\n",
       "      <th>0</th>\n",
       "      <td>Emerson Community Experience</td>\n",
       "      <td>0</td>\n",
       "    </tr>\n",
       "    <tr>\n",
       "      <th>1</th>\n",
       "      <td>How could Emerson engage you in building a str...</td>\n",
       "      <td>0</td>\n",
       "    </tr>\n",
       "    <tr>\n",
       "      <th>2</th>\n",
       "      <td>Discuss racism, anti-Semitism all forms of dis...</td>\n",
       "      <td>1</td>\n",
       "    </tr>\n",
       "    <tr>\n",
       "      <th>3</th>\n",
       "      <td>Regular communication</td>\n",
       "      <td>0</td>\n",
       "    </tr>\n",
       "    <tr>\n",
       "      <th>4</th>\n",
       "      <td>give staff time for this work</td>\n",
       "      <td>0</td>\n",
       "    </tr>\n",
       "  </tbody>\n",
       "</table>\n",
       "</div>"
      ],
      "text/plain": [
       "                                                text  is_bundled\n",
       "0                       Emerson Community Experience           0\n",
       "1  How could Emerson engage you in building a str...           0\n",
       "2  Discuss racism, anti-Semitism all forms of dis...           1\n",
       "3                              Regular communication           0\n",
       "4                      give staff time for this work           0"
      ]
     },
     "execution_count": 4,
     "metadata": {},
     "output_type": "execute_result"
    }
   ],
   "source": [
    "data.head()"
   ]
  },
  {
   "cell_type": "code",
   "execution_count": 5,
   "metadata": {},
   "outputs": [
    {
     "name": "stdout",
     "output_type": "stream",
     "text": [
      "              precision    recall  f1-score   support\n",
      "\n",
      "           0       0.87      0.97      0.92       368\n",
      "           1       0.31      0.09      0.14        58\n",
      "\n",
      "    accuracy                           0.85       426\n",
      "   macro avg       0.59      0.53      0.53       426\n",
      "weighted avg       0.79      0.85      0.81       426\n",
      "\n",
      "------------------\n",
      "false negative rate =  0.9137931034482759\n",
      "------------------\n"
     ]
    },
    {
     "data": {
      "text/plain": [
       "<AxesSubplot:>"
      ]
     },
     "execution_count": 5,
     "metadata": {},
     "output_type": "execute_result"
    },
    {
     "data": {
      "image/png": "[encoded data removed]",
      "text/plain": [
       "<Figure size 432x288 with 2 Axes>"
      ]
     },
     "metadata": {
      "needs_background": "light"
     },
     "output_type": "display_data"
    }
   ],
   "source": [
    "# count number of . in text\n",
    "def count_dot(text):\n",
    "    return text.count('.')\n",
    "# count number of ? in text\n",
    "def count_comma(text):\n",
    "    return text.count(',')\n",
    "# count number of non alphanumeric characters in text\n",
    "def count_non_alphanumeric(text):\n",
    "    numbers = sum(c.isdigit() for c in text)\n",
    "    letters = sum(c.isalpha() for c in text)\n",
    "    spaces  = sum(c.isspace() for c in text)\n",
    "    others  = len(text) - numbers - letters - spaces\n",
    "    return others\n",
    "# count number of words in text\n",
    "def count_words(text):\n",
    "    return len(text.split())\n",
    "\n",
    "def simple_feat_gen(data):\n",
    "    data['dot_count'] = data['text'].apply(count_dot)\n",
    "    data['comma_count'] = data['text'].apply(count_comma)\n",
    "    data['non_alphanumeric_count'] = data['text'].apply(count_non_alphanumeric)\n",
    "    data['word_count'] = data['text'].apply(count_words)\n",
    "    return data[['dot_count','comma_count','non_alphanumeric_count','word_count','is_bundled']]\n",
    "\n",
    "config = {\n",
    "    'model_type': 'logistic',\n",
    "    'feat_gen_func' : simple_feat_gen,\n",
    "    'model_params': {} , \n",
    "    'cach_data': None\n",
    "\n",
    "}\n",
    "score, confusion_matrix, classification_report,fnr,features,cach_data = run_experiment(data,config=config)\n",
    "print(classification_report)\n",
    "print('------------------')\n",
    "print('false negative rate = ',fnr)\n",
    "print('------------------')\n",
    "# plot confusion matrix\n",
    "import seaborn as sns\n",
    "import matplotlib.pyplot as plt\n",
    "# plot confusion matrix\n",
    "sns.heatmap(confusion_matrix,annot=True,fmt='d')"
   ]
  },
  {
   "cell_type": "code",
   "execution_count": 6,
   "metadata": {},
   "outputs": [
    {
     "name": "stdout",
     "output_type": "stream",
     "text": [
      "              precision    recall  f1-score   support\n",
      "\n",
      "           0       0.97      0.99      0.98       368\n",
      "           1       0.94      0.83      0.88        58\n",
      "\n",
      "    accuracy                           0.97       426\n",
      "   macro avg       0.96      0.91      0.93       426\n",
      "weighted avg       0.97      0.97      0.97       426\n",
      "\n",
      "------------------\n",
      "false negative rate =  0.1724137931034483\n",
      "------------------\n"
     ]
    },
    {
     "data": {
      "text/plain": [
       "<AxesSubplot:>"
      ]
     },
     "execution_count": 6,
     "metadata": {},
     "output_type": "execute_result"
    },
    {
     "data": {
      "image/png": "[encoded data removed]",
      "text/plain": [
       "<Figure size 432x288 with 2 Axes>"
      ]
     },
     "metadata": {
      "needs_background": "light"
     },
     "output_type": "display_data"
    }
   ],
   "source": [
    "config = {\n",
    "    'model_type': 'randomforest',\n",
    "    'feat_gen_func' : simple_feat_gen,\n",
    "    'model_params': {'n_estimators':20,} , \n",
    "    'cach_data': cach_data\n",
    "\n",
    "}\n",
    "score, confusion_matrix, classification_report,fnr,features,cach_data = run_experiment(data,config=config)\n",
    "print(classification_report)\n",
    "print('------------------')\n",
    "print('false negative rate = ',fnr)\n",
    "print('------------------')\n",
    "# plot confusion matrix\n",
    "import seaborn as sns\n",
    "import matplotlib.pyplot as plt\n",
    "# plot confusion matrix\n",
    "sns.heatmap(confusion_matrix,annot=True,fmt='d')"
   ]
  },
  {
   "cell_type": "code",
   "execution_count": 7,
   "metadata": {},
   "outputs": [
    {
     "name": "stdout",
     "output_type": "stream",
     "text": [
      "              precision    recall  f1-score   support\n",
      "\n",
      "           0       0.87      0.97      0.92       368\n",
      "           1       0.31      0.09      0.14        58\n",
      "\n",
      "    accuracy                           0.85       426\n",
      "   macro avg       0.59      0.53      0.53       426\n",
      "weighted avg       0.79      0.85      0.81       426\n",
      "\n",
      "------------------\n",
      "false negative rate =  0.9137931034482759\n",
      "------------------\n"
     ]
    },
    {
     "data": {
      "text/plain": [
       "<AxesSubplot:>"
      ]
     },
     "execution_count": 7,
     "metadata": {},
     "output_type": "execute_result"
    },
    {
     "data": {
      "image/png": "[encoded data removed]",
      "text/plain": [
       "<Figure size 432x288 with 2 Axes>"
      ]
     },
     "metadata": {
      "needs_background": "light"
     },
     "output_type": "display_data"
    }
   ],
   "source": [
    "def split_into_sentences(text):\n",
    "    doc = nlp(text)\n",
    "    spans = []\n",
    "    span =[]\n",
    "    for token in doc : \n",
    "        if token.pos_=='PUNCT' and  token.text in [',','.','?','!',';'] :\n",
    "            span_text = ' '.join(span)\n",
    "            spans.append(span_text)\n",
    "            span=[]\n",
    "        else:\n",
    "            span.append(token.text)\n",
    "    span_text = ' '.join(span)\n",
    "    spans.append(span_text)\n",
    "    spans = [s for s in spans if s!='']\n",
    "    return spans\n",
    "\n",
    "def get_tockenize_len(text):\n",
    "    sentences = split_into_sentences(text)\n",
    "    return len(sentences)\n",
    "\n",
    "def compute_similarity(pair):\n",
    "    text1,text2 = pair\n",
    "    doc1 = nlp(text1)\n",
    "    doc2 = nlp(text2)\n",
    "  \n",
    "    return  doc1.similarity(doc2)\n",
    "\n",
    "def get_sim_metric(text,agg='mean'):\n",
    "    text_chunks = split_into_sentences(text)\n",
    "    text_chunks_pairs = [text_chunks[i:i+2] for i in range(len(text_chunks)-1)]\n",
    "    if len(text_chunks)<=1:\n",
    "        return 1\n",
    "    similarity_scores = [compute_similarity(pair) for pair in text_chunks_pairs]\n",
    "    if agg=='mean':\n",
    "        return np.mean(similarity_scores)\n",
    "    elif agg=='min':\n",
    "        return np.min(similarity_scores)\n",
    " \n",
    "\n",
    "# apply to data \n",
    "def similarity_feat_gen(data):\n",
    "    data['sentence_count'] = data['text'].apply(get_tockenize_len)\n",
    "    data['similarity_mean'] = data['text'].apply(get_sim_metric,agg='mean')\n",
    "    data['similarity_min'] = data['text'].apply(get_sim_metric,agg='min')\n",
    "    return data[['sentence_count','similarity_mean','similarity_min','is_bundled']]\n",
    "config = {\n",
    "    'model_type': 'logistic',\n",
    "    'model_params': {},\n",
    "    'feat_gen_func' : similarity_feat_gen,\n",
    "    'cach_data': None\n",
    "\n",
    "}\n",
    "\n",
    "score, confusion_matrix, classification_report,fnr,features,cach_data = run_experiment(data,config=config)\n",
    "print(classification_report)\n",
    "print('------------------')\n",
    "print('false negative rate = ',fnr)\n",
    "print('------------------')\n",
    "# plot confusion matrix\n",
    "import seaborn as sns\n",
    "import matplotlib.pyplot as plt\n",
    "# plot confusion matrix\n",
    "sns.heatmap(confusion_matrix,annot=True,fmt='d')\n"
   ]
  },
  {
   "cell_type": "code",
   "execution_count": 8,
   "metadata": {},
   "outputs": [
    {
     "name": "stdout",
     "output_type": "stream",
     "text": [
      "              precision    recall  f1-score   support\n",
      "\n",
      "           0       0.98      1.00      0.99       368\n",
      "           1       1.00      0.88      0.94        58\n",
      "\n",
      "    accuracy                           0.98       426\n",
      "   macro avg       0.99      0.94      0.96       426\n",
      "weighted avg       0.98      0.98      0.98       426\n",
      "\n",
      "------------------\n",
      "false negative rate =  0.1206896551724138\n",
      "------------------\n"
     ]
    },
    {
     "data": {
      "text/plain": [
       "<AxesSubplot:>"
      ]
     },
     "execution_count": 8,
     "metadata": {},
     "output_type": "execute_result"
    },
    {
     "data": {
      "image/png": "[encoded data removed]",
      "text/plain": [
       "<Figure size 432x288 with 2 Axes>"
      ]
     },
     "metadata": {
      "needs_background": "light"
     },
     "output_type": "display_data"
    }
   ],
   "source": [
    "config = {\n",
    "    'model_type': 'randomforest',\n",
    "    'model_params': {'n_estimators':20,},\n",
    "    'feat_gen_func' : similarity_feat_gen,\n",
    "    'cach_data': cach_data\n",
    "\n",
    "}\n",
    "score, confusion_matrix, classification_report,fnr,features,cach_data = run_experiment(data,config=config)\n",
    "print(classification_report)\n",
    "print('------------------')\n",
    "print('false negative rate = ',fnr)\n",
    "print('------------------')\n",
    "# plot confusion matrix\n",
    "import seaborn as sns\n",
    "import matplotlib.pyplot as plt\n",
    "# plot confusion matrix\n",
    "sns.heatmap(confusion_matrix,annot=True,fmt='d')"
   ]
  },
  {
   "cell_type": "code",
   "execution_count": 9,
   "metadata": {},
   "outputs": [],
   "source": [
    "# Todo:\n",
    "# inspect  false negative texts "
   ]
  }
 ],
 "metadata": {
  "interpreter": {
   "hash": "949777d72b0d2535278d3dc13498b2535136f6dfe0678499012e853ee9abcab1"
  },
  "kernelspec": {
   "display_name": "Python 3.9.1 64-bit",
   "language": "python",
   "name": "python3"
  },
  "language_info": {
   "codemirror_mode": {
    "name": "ipython",
    "version": 3
   },
   "file_extension": ".py",
   "mimetype": "text/x-python",
   "name": "python",
   "nbconvert_exporter": "python",
   "pygments_lexer": "ipython3",
   "version": "3.9.1"
  },
  "orig_nbformat": 4
 },
 "nbformat": 4,
 "nbformat_minor": 2
}
