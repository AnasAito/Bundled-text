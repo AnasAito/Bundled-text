{
 "cells": [
  {
   "cell_type": "code",
   "execution_count": 1,
   "metadata": {},
   "outputs": [
    {
     "name": "stdout",
     "output_type": "stream",
     "text": [
      "bundled_text is being imported\n"
     ]
    }
   ],
   "source": [
    "import pandas as pd\n",
    "import numpy as np \n",
    "from PyBundled.utils import  run_experiment\n"
   ]
  },
  {
   "cell_type": "code",
   "execution_count": 2,
   "metadata": {},
   "outputs": [],
   "source": [
    "import spacy\n",
    "\n",
    "nlp = spacy.load(\"en_core_web_lg\",)"
   ]
  },
  {
   "cell_type": "code",
   "execution_count": 2,
   "metadata": {},
   "outputs": [],
   "source": [
    "# load data \n",
    "data  = pd.read_csv('../data/bundled_raw.csv')"
   ]
  },
  {
   "cell_type": "code",
   "execution_count": 3,
   "metadata": {},
   "outputs": [
    {
     "data": {
      "text/html": [
       "<div>\n",
       "<style scoped>\n",
       "    .dataframe tbody tr th:only-of-type {\n",
       "        vertical-align: middle;\n",
       "    }\n",
       "\n",
       "    .dataframe tbody tr th {\n",
       "        vertical-align: top;\n",
       "    }\n",
       "\n",
       "    .dataframe thead th {\n",
       "        text-align: right;\n",
       "    }\n",
       "</style>\n",
       "<table border=\"1\" class=\"dataframe\">\n",
       "  <thead>\n",
       "    <tr style=\"text-align: right;\">\n",
       "      <th></th>\n",
       "      <th>text</th>\n",
       "      <th>is_bundled</th>\n",
       "    </tr>\n",
       "  </thead>\n",
       "  <tbody>\n",
       "    <tr>\n",
       "      <th>0</th>\n",
       "      <td>Emerson Community Experience</td>\n",
       "      <td>0</td>\n",
       "    </tr>\n",
       "    <tr>\n",
       "      <th>1</th>\n",
       "      <td>How could Emerson engage you in building a str...</td>\n",
       "      <td>0</td>\n",
       "    </tr>\n",
       "    <tr>\n",
       "      <th>2</th>\n",
       "      <td>Discuss racism, anti-Semitism all forms of dis...</td>\n",
       "      <td>1</td>\n",
       "    </tr>\n",
       "    <tr>\n",
       "      <th>3</th>\n",
       "      <td>Regular communication</td>\n",
       "      <td>0</td>\n",
       "    </tr>\n",
       "    <tr>\n",
       "      <th>4</th>\n",
       "      <td>give staff time for this work</td>\n",
       "      <td>0</td>\n",
       "    </tr>\n",
       "  </tbody>\n",
       "</table>\n",
       "</div>"
      ],
      "text/plain": [
       "                                                text  is_bundled\n",
       "0                       Emerson Community Experience           0\n",
       "1  How could Emerson engage you in building a str...           0\n",
       "2  Discuss racism, anti-Semitism all forms of dis...           1\n",
       "3                              Regular communication           0\n",
       "4                      give staff time for this work           0"
      ]
     },
     "execution_count": 3,
     "metadata": {},
     "output_type": "execute_result"
    }
   ],
   "source": [
    "data.head()"
   ]
  },
  {
   "cell_type": "code",
   "execution_count": 5,
   "metadata": {},
   "outputs": [
    {
     "name": "stdout",
     "output_type": "stream",
     "text": [
      "              precision    recall  f1-score   support\n",
      "\n",
      "           0       0.87      0.97      0.92       368\n",
      "           1       0.31      0.09      0.14        58\n",
      "\n",
      "    accuracy                           0.85       426\n",
      "   macro avg       0.59      0.53      0.53       426\n",
      "weighted avg       0.79      0.85      0.81       426\n",
      "\n",
      "------------------\n"
     ]
    },
    {
     "data": {
      "text/plain": [
       "<AxesSubplot:>"
      ]
     },
     "execution_count": 5,
     "metadata": {},
     "output_type": "execute_result"
    },
    {
     "data": {
      "image/png": "[encoded data removed]",
      "text/plain": [
       "<Figure size 432x288 with 2 Axes>"
      ]
     },
     "metadata": {
      "needs_background": "light"
     },
     "output_type": "display_data"
    }
   ],
   "source": [
    "# count number of . in text\n",
    "def count_dot(text):\n",
    "    return text.count('.')\n",
    "# count number of ? in text\n",
    "def count_comma(text):\n",
    "    return text.count(',')\n",
    "# count number of non alphanumeric characters in text\n",
    "def count_non_alphanumeric(text):\n",
    "    numbers = sum(c.isdigit() for c in text)\n",
    "    letters = sum(c.isalpha() for c in text)\n",
    "    spaces  = sum(c.isspace() for c in text)\n",
    "    others  = len(text) - numbers - letters - spaces\n",
    "    return others\n",
    "# count number of words in text\n",
    "def count_words(text):\n",
    "    return len(text.split())\n",
    "\n",
    "def simple_feat_gen(data):\n",
    "    data['dot_count'] = data['text'].apply(count_dot)\n",
    "    data['comma_count'] = data['text'].apply(count_comma)\n",
    "    data['non_alphanumeric_count'] = data['text'].apply(count_non_alphanumeric)\n",
    "    data['word_count'] = data['text'].apply(count_words)\n",
    "    return data[['dot_count','comma_count','non_alphanumeric_count','word_count','is_bundled']]\n",
    "\n",
    "config = {\n",
    "    'model_type': 'logistic',\n",
    "    'feat_gen_func' : simple_feat_gen,\n",
    "    'model_params': {} , \n",
    "    'cach_data': None\n",
    "\n",
    "}\n",
    "confusion_matrix, classification_report,features,fn_index,cach_data = run_experiment(data,config=config)\n",
    "print(classification_report)\n",
    "\n",
    "print('------------------')\n",
    "# plot confusion matrix\n",
    "import seaborn as sns\n",
    "import matplotlib.pyplot as plt\n",
    "# plot confusion matrix\n",
    "sns.heatmap(confusion_matrix,annot=True,fmt='d')"
   ]
  },
  {
   "cell_type": "code",
   "execution_count": 6,
   "metadata": {},
   "outputs": [
    {
     "name": "stdout",
     "output_type": "stream",
     "text": [
      "              precision    recall  f1-score   support\n",
      "\n",
      "           0       0.98      0.99      0.99       368\n",
      "           1       0.96      0.84      0.90        58\n",
      "\n",
      "    accuracy                           0.97       426\n",
      "   macro avg       0.97      0.92      0.94       426\n",
      "weighted avg       0.97      0.97      0.97       426\n",
      "\n",
      "------------------\n"
     ]
    },
    {
     "data": {
      "text/plain": [
       "<AxesSubplot:>"
      ]
     },
     "execution_count": 6,
     "metadata": {},
     "output_type": "execute_result"
    },
    {
     "data": {
      "image/png": "[encoded data removed]",
      "text/plain": [
       "<Figure size 432x288 with 2 Axes>"
      ]
     },
     "metadata": {
      "needs_background": "light"
     },
     "output_type": "display_data"
    }
   ],
   "source": [
    "config = {\n",
    "    'model_type': 'randomforest',\n",
    "    'feat_gen_func' : simple_feat_gen,\n",
    "    'model_params': {'n_estimators':20,} , \n",
    "    'cach_data': cach_data\n",
    "\n",
    "}\n",
    "confusion_matrix, classification_report,features,fn_index,cach_data = run_experiment(data,config=config)\n",
    "print(classification_report)\n",
    "\n",
    "print('------------------')\n",
    "# plot confusion matrix\n",
    "import seaborn as sns\n",
    "import matplotlib.pyplot as plt\n",
    "# plot confusion matrix\n",
    "sns.heatmap(confusion_matrix,annot=True,fmt='d')"
   ]
  },
  {
   "cell_type": "code",
   "execution_count": 10,
   "metadata": {},
   "outputs": [
    {
     "name": "stdout",
     "output_type": "stream",
     "text": [
      "              precision    recall  f1-score   support\n",
      "\n",
      "           0       0.87      0.97      0.92       368\n",
      "           1       0.31      0.09      0.14        58\n",
      "\n",
      "    accuracy                           0.85       426\n",
      "   macro avg       0.59      0.53      0.53       426\n",
      "weighted avg       0.79      0.85      0.81       426\n",
      "\n",
      "------------------\n"
     ]
    },
    {
     "data": {
      "text/plain": [
       "<AxesSubplot:>"
      ]
     },
     "execution_count": 10,
     "metadata": {},
     "output_type": "execute_result"
    },
    {
     "data": {
      "image/png": "[encoded data removed]",
      "text/plain": [
       "<Figure size 432x288 with 2 Axes>"
      ]
     },
     "metadata": {
      "needs_background": "light"
     },
     "output_type": "display_data"
    }
   ],
   "source": [
    "def split_into_sentences(text):\n",
    "    doc = nlp(text)\n",
    "    spans = []\n",
    "    span =[]\n",
    "    for token in doc : \n",
    "        if token.pos_=='PUNCT' and  token.text in [',','.','?','!',';'] :\n",
    "            span_text = ' '.join(span)\n",
    "            spans.append(span_text)\n",
    "            span=[]\n",
    "        else:\n",
    "            span.append(token.text)\n",
    "    span_text = ' '.join(span)\n",
    "    spans.append(span_text)\n",
    "    spans = [s for s in spans if s!='']\n",
    "    return spans\n",
    "\n",
    "\n",
    "def compute_similarity(pair):\n",
    "    text1,text2 = pair\n",
    "    doc1 = nlp(text1)\n",
    "    doc2 = nlp(text2)\n",
    "  \n",
    "    return  doc1.similarity(doc2)\n",
    "\n",
    "def get_sim_metrics(text):\n",
    "    text_chunks = split_into_sentences(text)\n",
    "    text_chunks_pairs = [text_chunks[i:i+2] for i in range(len(text_chunks)-1)]\n",
    "    if len(text_chunks)<=1:\n",
    "        return len(text_chunks),1,1\n",
    "    similarity_scores = [compute_similarity(pair) for pair in text_chunks_pairs]\n",
    "    return len(text_chunks),  np.mean(similarity_scores) , np.min(similarity_scores)\n",
    "\n",
    " \n",
    "\n",
    "# apply to data \n",
    "def similarity_feat_gen(data):\n",
    "    data['sentence_count'], data['similarity_mean'] ,data['similarity_min']= zip(*data['text'].map(get_sim_metrics))\n",
    "    return data[['sentence_count','similarity_mean','similarity_min','is_bundled']]\n",
    "config = {\n",
    "    'model_type': 'logistic',\n",
    "    'model_params': {},\n",
    "    'feat_gen_func' : similarity_feat_gen,\n",
    "    'cach_data': None\n",
    "\n",
    "}\n",
    "\n",
    "confusion_matrix, classification_report,features,fn_index,cach_data = run_experiment(data,config=config)\n",
    "print(classification_report)\n",
    "\n",
    "print('------------------')\n",
    "# plot confusion matrix\n",
    "import seaborn as sns\n",
    "import matplotlib.pyplot as plt\n",
    "# plot confusion matrix\n",
    "sns.heatmap(confusion_matrix,annot=True,fmt='d')\n"
   ]
  },
  {
   "cell_type": "code",
   "execution_count": 11,
   "metadata": {},
   "outputs": [
    {
     "name": "stdout",
     "output_type": "stream",
     "text": [
      "              precision    recall  f1-score   support\n",
      "\n",
      "           0       0.98      1.00      0.99       368\n",
      "           1       1.00      0.88      0.94        58\n",
      "\n",
      "    accuracy                           0.98       426\n",
      "   macro avg       0.99      0.94      0.96       426\n",
      "weighted avg       0.98      0.98      0.98       426\n",
      "\n",
      "------------------\n"
     ]
    },
    {
     "data": {
      "text/plain": [
       "<AxesSubplot:>"
      ]
     },
     "execution_count": 11,
     "metadata": {},
     "output_type": "execute_result"
    },
    {
     "data": {
      "image/png": "[encoded data removed]",
      "text/plain": [
       "<Figure size 432x288 with 2 Axes>"
      ]
     },
     "metadata": {
      "needs_background": "light"
     },
     "output_type": "display_data"
    }
   ],
   "source": [
    "config = {\n",
    "    'model_type': 'randomforest',\n",
    "    'model_params': {'n_estimators':20,},\n",
    "    'feat_gen_func' : similarity_feat_gen,\n",
    "    'cach_data': cach_data\n",
    "\n",
    "}\n",
    "confusion_matrix, classification_report,features,fn_index,cach_data = run_experiment(data,config=config)\n",
    "print(classification_report)\n",
    "\n",
    "print('------------------')\n",
    "# plot confusion matrix\n",
    "import seaborn as sns\n",
    "import matplotlib.pyplot as plt\n",
    "# plot confusion matrix\n",
    "sns.heatmap(confusion_matrix,annot=True,fmt='d')"
   ]
  },
  {
   "cell_type": "code",
   "execution_count": 12,
   "metadata": {},
   "outputs": [
    {
     "name": "stdout",
     "output_type": "stream",
     "text": [
      "------------------\n",
      "false negative texts ['Increase wages and financial aid'\n",
      " 'hire more BIPOC professors and give them the resources they need'\n",
      " 'diversity and equity concerns'\n",
      " 'increasing the student loan and faculty salaries budgets and recruiting admissions/resumes from schools and communities with diverse student bodies'\n",
      " \"My access to resources and a network I wouldn't have at any other school\"\n",
      " 'Passion & Creativity' 'Flexibility and gratitude']\n"
     ]
    }
   ],
   "source": [
    "print('------------------')\n",
    "print('false negative texts',data[data.index.isin(fn_index)]['text'].values)"
   ]
  },
  {
   "cell_type": "code",
   "execution_count": 13,
   "metadata": {},
   "outputs": [
    {
     "name": "stdout",
     "output_type": "stream",
     "text": [
      "              precision    recall  f1-score   support\n",
      "\n",
      "           0       0.88      0.97      0.92       368\n",
      "           1       0.47      0.16      0.23        58\n",
      "\n",
      "    accuracy                           0.86       426\n",
      "   macro avg       0.68      0.56      0.58       426\n",
      "weighted avg       0.82      0.86      0.83       426\n",
      "\n",
      "------------------\n"
     ]
    },
    {
     "data": {
      "text/plain": [
       "<AxesSubplot:>"
      ]
     },
     "execution_count": 13,
     "metadata": {},
     "output_type": "execute_result"
    },
    {
     "data": {
      "image/png": "[encoded data removed]",
      "text/plain": [
       "<Figure size 432x288 with 2 Axes>"
      ]
     },
     "metadata": {
      "needs_background": "light"
     },
     "output_type": "display_data"
    }
   ],
   "source": [
    "def split_into_sentences(text):\n",
    "    doc = nlp(text)\n",
    "    spans = []\n",
    "    span =[]\n",
    "    for token in doc : \n",
    "        if token.pos_=='PUNCT' and  token.text in [',','.','?','!',';'] :\n",
    "            span_text = ' '.join(span)\n",
    "            spans.append(span_text)\n",
    "            span=[]\n",
    "        else:\n",
    "            span.append(token.text)\n",
    "    span_text = ' '.join(span)\n",
    "    spans.append(span_text)\n",
    "    spans = [s for s in spans if s!='']\n",
    "    return spans\n",
    "\n",
    "# count number of stop words  \n",
    "def count_stop_words(text):\n",
    "    doc = nlp(text)\n",
    "    return sum(token.is_stop for token in doc)\n",
    "\n",
    "def compute_similarity(pair):\n",
    "    text1,text2 = pair\n",
    "    doc1 = nlp(text1)\n",
    "    doc2 = nlp(text2)\n",
    "  \n",
    "    return  doc1.similarity(doc2)\n",
    "\n",
    "def get_sim_metrics(text):\n",
    "    text_chunks = split_into_sentences(text)\n",
    "    text_chunks_pairs = [text_chunks[i:i+2] for i in range(len(text_chunks)-1)]\n",
    "    if len(text_chunks)<=1:\n",
    "        return len(text_chunks),1,1\n",
    "    similarity_scores = [compute_similarity(pair) for pair in text_chunks_pairs]\n",
    "    return len(text_chunks),  np.mean(similarity_scores) , np.min(similarity_scores)\n",
    "\n",
    " \n",
    "\n",
    "# apply to data \n",
    "def similarity_feat_gen(data):\n",
    "    data['sentence_count'], data['similarity_mean'] ,data['similarity_min']= zip(*data['text'].map(get_sim_metrics))\n",
    "    data['stop_word_count'] = data['text'].apply(count_stop_words)\n",
    "    return data[['sentence_count','similarity_mean','similarity_min','stop_word_count','is_bundled']]\n",
    "config = {\n",
    "    'model_type': 'logistic',\n",
    "    'model_params': {},\n",
    "    'feat_gen_func' : similarity_feat_gen,\n",
    "    'cach_data': None\n",
    "\n",
    "}\n",
    "\n",
    "confusion_matrix, classification_report,features,fn_index,cach_data = run_experiment(data,config=config)\n",
    "print(classification_report)\n",
    "\n",
    "print('------------------')\n",
    "# plot confusion matrix\n",
    "import seaborn as sns\n",
    "import matplotlib.pyplot as plt\n",
    "# plot confusion matrix\n",
    "sns.heatmap(confusion_matrix,annot=True,fmt='d')\n"
   ]
  },
  {
   "cell_type": "code",
   "execution_count": 14,
   "metadata": {},
   "outputs": [
    {
     "name": "stdout",
     "output_type": "stream",
     "text": [
      "              precision    recall  f1-score   support\n",
      "\n",
      "           0       0.98      1.00      0.99       368\n",
      "           1       0.98      0.90      0.94        58\n",
      "\n",
      "    accuracy                           0.98       426\n",
      "   macro avg       0.98      0.95      0.96       426\n",
      "weighted avg       0.98      0.98      0.98       426\n",
      "\n",
      "------------------\n"
     ]
    },
    {
     "data": {
      "text/plain": [
       "<AxesSubplot:>"
      ]
     },
     "execution_count": 14,
     "metadata": {},
     "output_type": "execute_result"
    },
    {
     "data": {
      "image/png": "[encoded data removed]",
      "text/plain": [
       "<Figure size 432x288 with 2 Axes>"
      ]
     },
     "metadata": {
      "needs_background": "light"
     },
     "output_type": "display_data"
    }
   ],
   "source": [
    "config = {\n",
    "    'model_type': 'randomforest',\n",
    "    'model_params': {'n_estimators':20,},\n",
    "    'feat_gen_func' : similarity_feat_gen,\n",
    "    'cach_data': cach_data\n",
    "\n",
    "}\n",
    "confusion_matrix, classification_report,features,fn_index,cach_data = run_experiment(data,config=config)\n",
    "print(classification_report)\n",
    "\n",
    "print('------------------')\n",
    "# plot confusion matrix\n",
    "import seaborn as sns\n",
    "import matplotlib.pyplot as plt\n",
    "# plot confusion matrix\n",
    "sns.heatmap(confusion_matrix,annot=True,fmt='d')"
   ]
  },
  {
   "cell_type": "code",
   "execution_count": 15,
   "metadata": {},
   "outputs": [
    {
     "name": "stdout",
     "output_type": "stream",
     "text": [
      "------------------\n",
      "false negative texts ['Increase wages and financial aid'\n",
      " 'hire more BIPOC professors and give them the resources they need'\n",
      " 'diversity and equity concerns'\n",
      " 'increasing the student loan and faculty salaries budgets and recruiting admissions/resumes from schools and communities with diverse student bodies'\n",
      " 'Passion & Creativity' 'Flexibility and gratitude']\n"
     ]
    }
   ],
   "source": [
    "print('------------------')\n",
    "print('false negative texts',data[data.index.isin(fn_index)]['text'].values)"
   ]
  },
  {
   "cell_type": "code",
   "execution_count": null,
   "metadata": {},
   "outputs": [],
   "source": [
    "# compute similarity using sentence-transformer \n",
    "!pip install -U sentence-transformers"
   ]
  },
  {
   "cell_type": "code",
   "execution_count": 17,
   "metadata": {},
   "outputs": [
    {
     "name": "stderr",
     "output_type": "stream",
     "text": [
      "Downloading: 100%|██████████| 1.18k/1.18k [00:00<00:00, 106kB/s]\n",
      "Downloading: 100%|██████████| 10.1k/10.1k [00:00<00:00, 2.51MB/s]\n",
      "Downloading: 100%|██████████| 571/571 [00:00<00:00, 122kB/s]\n",
      "Downloading: 100%|██████████| 116/116 [00:00<00:00, 9.77kB/s]\n",
      "Downloading: 100%|██████████| 39.3k/39.3k [00:00<00:00, 180kB/s] \n",
      "Downloading: 100%|██████████| 349/349 [00:00<00:00, 91.3kB/s]\n",
      "Downloading: 100%|██████████| 438M/438M [00:36<00:00, 12.2MB/s] \n",
      "Downloading: 100%|██████████| 53.0/53.0 [00:00<00:00, 20.4kB/s]\n",
      "Downloading: 100%|██████████| 239/239 [00:00<00:00, 109kB/s]\n",
      "Downloading: 100%|██████████| 466k/466k [00:00<00:00, 1.11MB/s]\n",
      "Downloading: 100%|██████████| 363/363 [00:00<00:00, 159kB/s]\n",
      "Downloading: 100%|██████████| 13.1k/13.1k [00:00<00:00, 2.47MB/s]\n",
      "Downloading: 100%|██████████| 232k/232k [00:00<00:00, 560kB/s] \n",
      "Downloading: 100%|██████████| 190/190 [00:00<00:00, 70.4kB/s]\n"
     ]
    },
    {
     "data": {
      "text/plain": [
       "tensor([[0.0010]])"
      ]
     },
     "execution_count": 17,
     "metadata": {},
     "output_type": "execute_result"
    }
   ],
   "source": [
    "from sentence_transformers import SentenceTransformer,util\n",
    "\n",
    "model_name = 'all-mpnet-base-v2'\n",
    "\n",
    "model = SentenceTransformer(model_name)\n",
    "\n"
   ]
  },
  {
   "cell_type": "code",
   "execution_count": 25,
   "metadata": {},
   "outputs": [
    {
     "data": {
      "text/plain": [
       "0.0009530312963761389"
      ]
     },
     "execution_count": 25,
     "metadata": {},
     "output_type": "execute_result"
    }
   ],
   "source": [
    "text1 = 'Increase wages and financial aid'\n",
    "text2 ='diversity and equity concerns'\n",
    "embeddings = model.encode([text1,text2])\n",
    "sim = util.dot_score(embeddings[:,0], embeddings[:,1]).item()\n"
   ]
  },
  {
   "cell_type": "code",
   "execution_count": 30,
   "metadata": {},
   "outputs": [
    {
     "name": "stdout",
     "output_type": "stream",
     "text": [
      "              precision    recall  f1-score   support\n",
      "\n",
      "           0       0.90      0.98      0.94       368\n",
      "           1       0.68      0.29      0.41        58\n",
      "\n",
      "    accuracy                           0.88       426\n",
      "   macro avg       0.79      0.64      0.67       426\n",
      "weighted avg       0.87      0.88      0.86       426\n",
      "\n",
      "------------------\n"
     ]
    },
    {
     "data": {
      "text/plain": [
       "<AxesSubplot:>"
      ]
     },
     "execution_count": 30,
     "metadata": {},
     "output_type": "execute_result"
    },
    {
     "data": {
      "image/png": "[encoded data removed]",
      "text/plain": [
       "<Figure size 432x288 with 2 Axes>"
      ]
     },
     "metadata": {
      "needs_background": "light"
     },
     "output_type": "display_data"
    }
   ],
   "source": [
    "def split_into_sentences(text):\n",
    "    doc = nlp(text)\n",
    "    spans = []\n",
    "    span =[]\n",
    "    for token in doc : \n",
    "        if token.pos_=='PUNCT' and  token.text in [',','.','?','!',';'] :\n",
    "            span_text = ' '.join(span)\n",
    "            spans.append(span_text)\n",
    "            span=[]\n",
    "        else:\n",
    "            span.append(token.text)\n",
    "    span_text = ' '.join(span)\n",
    "    spans.append(span_text)\n",
    "    spans = [s for s in spans if s!='']\n",
    "    return spans\n",
    "\n",
    "# count number of stop words  \n",
    "def count_stop_words(text):\n",
    "    doc = nlp(text)\n",
    "    return sum(token.is_stop for token in doc)\n",
    "\n",
    "def compute_similarity(pair):\n",
    "    text1,text2 = pair\n",
    "    embeddings = model.encode([text1,text2])\n",
    "    sim = util.dot_score(embeddings[:,0], embeddings[:,1]).item()\n",
    "    return sim\n",
    "\n",
    "def get_sim_metrics(text):\n",
    "    text_chunks = split_into_sentences(text)\n",
    "    text_chunks_pairs = [text_chunks[i:i+2] for i in range(len(text_chunks)-1)]\n",
    "    if len(text_chunks)<=1:\n",
    "        return len(text_chunks),1,1\n",
    "    similarity_scores = [compute_similarity(pair) for pair in text_chunks_pairs]\n",
    "    return len(text_chunks),  np.mean(similarity_scores) , np.min(similarity_scores)\n",
    "\n",
    " \n",
    "\n",
    "# apply to data \n",
    "def similarity_feat_gen(data):\n",
    "    data['sentence_count'], data['similarity_mean'] ,data['similarity_min']= zip(*data['text'].map(get_sim_metrics))\n",
    "    data['stop_word_count'] = data['text'].apply(count_stop_words)\n",
    "    return data[['sentence_count','similarity_mean','similarity_min','stop_word_count','is_bundled']]\n",
    "config = {\n",
    "    'model_type': 'logistic',\n",
    "    'model_params': {},\n",
    "    'feat_gen_func' : similarity_feat_gen,\n",
    "    'cach_data': None\n",
    "\n",
    "}\n",
    "\n",
    "confusion_matrix, classification_report,features,fn_index,cach_data = run_experiment(data,config=config)\n",
    "print(classification_report)\n",
    "\n",
    "print('------------------')\n",
    "# plot confusion matrix\n",
    "import seaborn as sns\n",
    "import matplotlib.pyplot as plt\n",
    "# plot confusion matrix\n",
    "sns.heatmap(confusion_matrix,annot=True,fmt='d')\n"
   ]
  },
  {
   "cell_type": "code",
   "execution_count": 31,
   "metadata": {},
   "outputs": [
    {
     "name": "stdout",
     "output_type": "stream",
     "text": [
      "              precision    recall  f1-score   support\n",
      "\n",
      "           0       0.98      1.00      0.99       368\n",
      "           1       1.00      0.88      0.94        58\n",
      "\n",
      "    accuracy                           0.98       426\n",
      "   macro avg       0.99      0.94      0.96       426\n",
      "weighted avg       0.98      0.98      0.98       426\n",
      "\n",
      "------------------\n"
     ]
    },
    {
     "data": {
      "text/plain": [
       "<AxesSubplot:>"
      ]
     },
     "execution_count": 31,
     "metadata": {},
     "output_type": "execute_result"
    },
    {
     "data": {
      "image/png": "[encoded data removed]",
      "text/plain": [
       "<Figure size 432x288 with 2 Axes>"
      ]
     },
     "metadata": {
      "needs_background": "light"
     },
     "output_type": "display_data"
    }
   ],
   "source": [
    "config = {\n",
    "    'model_type': 'randomforest',\n",
    "    'model_params': {'n_estimators':20,},\n",
    "    'feat_gen_func' : similarity_feat_gen,\n",
    "    'cach_data': cach_data\n",
    "\n",
    "}\n",
    "confusion_matrix, classification_report,features,fn_index,cach_data = run_experiment(data,config=config)\n",
    "print(classification_report)\n",
    "\n",
    "print('------------------')\n",
    "# plot confusion matrix\n",
    "import seaborn as sns\n",
    "import matplotlib.pyplot as plt\n",
    "# plot confusion matrix\n",
    "sns.heatmap(confusion_matrix,annot=True,fmt='d')"
   ]
  },
  {
   "cell_type": "code",
   "execution_count": 32,
   "metadata": {},
   "outputs": [
    {
     "name": "stdout",
     "output_type": "stream",
     "text": [
      "------------------\n",
      "false negative texts ['Increase wages and financial aid'\n",
      " 'hire more BIPOC professors and give them the resources they need'\n",
      " 'diversity and equity concerns'\n",
      " 'increasing the student loan and faculty salaries budgets and recruiting admissions/resumes from schools and communities with diverse student bodies'\n",
      " \"My access to resources and a network I wouldn't have at any other school\"\n",
      " 'Passion & Creativity' 'Flexibility and gratitude']\n"
     ]
    }
   ],
   "source": [
    "print('------------------')\n",
    "print('false negative texts',data[data.index.isin(fn_index)]['text'].values)"
   ]
  },
  {
   "cell_type": "code",
   "execution_count": 44,
   "metadata": {},
   "outputs": [
    {
     "data": {
      "text/plain": [
       "array([\"I'm no expert but as a queer, trans, learning disabled, jewish student I want to see people like me and people nothing like me represented. International media and literature should be normal in a classroom setting. 0 tolerance for hate.\",\n",
       "       'increasing the student loan and faculty salaries budgets and recruiting admissions/resumes from schools and communities with diverse student bodies',\n",
       "       'Hiring and retaining staff of color; identifying and addressing barriers for participation in abroad/domestic programs;',\n",
       "       \"I love being able to connect with students and faculty and help them. I think there is a sense of community among staff members that I appreciate. I think the benefits and the way staff are treated are better than a lot of places I've worked.\",\n",
       "       'The staff I work with directly are creative, hardworking, and engaged. They are always willing to collaborate and lend a hand when needed. Their focus is on creating the best experience and environment possible for the constituents we serve.'],\n",
       "      dtype=object)"
      ]
     },
     "execution_count": 44,
     "metadata": {},
     "output_type": "execute_result"
    }
   ],
   "source": [
    "data[(data['is_bundled']==1) &(data['text'].str.contains('and'))].sample(5)['text'].values"
   ]
  },
  {
   "cell_type": "code",
   "execution_count": 48,
   "metadata": {},
   "outputs": [
    {
     "data": {
      "text/plain": [
       "0.002117107156664133"
      ]
     },
     "execution_count": 48,
     "metadata": {},
     "output_type": "execute_result"
    }
   ],
   "source": [
    "text = \"Hiring and retaining staff of color; identifying and addressing barriers for participation in abroad/domestic programs;\"\n",
    "text1,text2 = text.split('and')[:2]\n",
    "embeddings = model.encode([text1,text2])\n",
    "sim = util.dot_score(embeddings[:,0], embeddings[:,1]).item()\n",
    "sim"
   ]
  },
  {
   "cell_type": "code",
   "execution_count": null,
   "metadata": {},
   "outputs": [],
   "source": []
  }
 ],
 "metadata": {
  "interpreter": {
   "hash": "949777d72b0d2535278d3dc13498b2535136f6dfe0678499012e853ee9abcab1"
  },
  "kernelspec": {
   "display_name": "Python 3.9.1 64-bit",
   "language": "python",
   "name": "python3"
  },
  "language_info": {
   "codemirror_mode": {
    "name": "ipython",
    "version": 3
   },
   "file_extension": ".py",
   "mimetype": "text/x-python",
   "name": "python",
   "nbconvert_exporter": "python",
   "pygments_lexer": "ipython3",
   "version": "3.9.1"
  },
  "orig_nbformat": 4
 },
 "nbformat": 4,
 "nbformat_minor": 2
}
